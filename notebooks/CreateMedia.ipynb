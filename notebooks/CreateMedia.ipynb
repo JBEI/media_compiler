{
 "cells": [
  {
   "cell_type": "markdown",
   "metadata": {},
   "source": [
    "# Create the Initial Media CSV"
   ]
  },
  {
   "cell_type": "code",
   "execution_count": 1,
   "metadata": {},
   "outputs": [
    {
     "name": "stdout",
     "output_type": "stream",
     "text": [
      "/Users/zak/Documents/Projects/media_compiler/core\n"
     ]
    }
   ],
   "source": [
    "cd ../"
   ]
  },
  {
   "cell_type": "code",
   "execution_count": 2,
   "metadata": {},
   "outputs": [
    {
     "name": "stdout",
     "output_type": "stream",
     "text": [
      "/Users/zak/Documents/Projects/media_compiler/core\n"
     ]
    }
   ],
   "source": [
    "!pwd"
   ]
  },
  {
   "cell_type": "code",
   "execution_count": 3,
   "metadata": {},
   "outputs": [],
   "source": [
    "NUM_MEDIA = 15       # Number of Unique Medias to Create\n",
    "OVERLAY_VOLUME = 200 # Size Of Overlay\n",
    "REAGENT_VOLUME = 1000\n",
    "WELL_VOLUME = 1100\n",
    "WATER_VOLUME = 1600\n",
    "EXTRA_WELLS = {'Glucose':4,'NaCl':3,'KH2PO4':2,'Na2HPO4':2}#,'NH4Cl':3,'EDTA':2}\n",
    "OUTFILE  = 'data/indigoidine_media.csv'\n",
    "DECKFILE = 'data/indigoidine_wells.csv'\n",
    "MEDIA_COMPONENTS='data/Indigoidine_Stock_Solutions.csv'"
   ]
  },
  {
   "cell_type": "code",
   "execution_count": 4,
   "metadata": {},
   "outputs": [],
   "source": [
    "import pandas as pd\n",
    "from IPython.display import display\n",
    "from pyDOE import lhs\n",
    "import numpy as np\n",
    "import math"
   ]
  },
  {
   "cell_type": "code",
   "execution_count": 5,
   "metadata": {},
   "outputs": [
    {
     "name": "stdout",
     "output_type": "stream",
     "text": [
      "38\n"
     ]
    }
   ],
   "source": [
    "def get_well_num(well_address,plate='96_well'):\n",
    "    row = 'ABCDEFGHIJKLMNOPQRSTUVWXYZ'\n",
    "    row_num = lambda x: row.find(x)\n",
    "    if plate == '96_well':\n",
    "        wells_per_row = 12\n",
    "        return (row_num(well_address[0]))*wells_per_row + int(well_address[1:])\n",
    "    else:\n",
    "        raise 'Need to Implement other Plate Sizes'\n",
    "        \n",
    "print(get_well_num('D2'))"
   ]
  },
  {
   "cell_type": "code",
   "execution_count": 6,
   "metadata": {},
   "outputs": [],
   "source": [
    "media_df = pd.read_csv(MEDIA_COMPONENTS)\n",
    "media_df['Min_Dilution_Factor'] = (media_df['Master Solution Concentration [M]']*1e3)/(media_df['Max Concentration [mM]'])\n",
    "#display(media_df)"
   ]
  },
  {
   "cell_type": "code",
   "execution_count": 7,
   "metadata": {},
   "outputs": [],
   "source": [
    "#Create SRC Plate\n",
    "columns = ['Plate','Well'] + [c for c in media_df['Media Components']] + ['Volume','Target']\n",
    "df = pd.DataFrame(columns=columns)\n",
    "\n",
    "#Work in mM concentrations\n",
    "well = 1\n",
    "for i,component in media_df.iterrows():    \n",
    "    if component['Media Components'] in EXTRA_WELLS:\n",
    "        for _ in range(EXTRA_WELLS[component['Media Components']]):\n",
    "            row = {'Plate':'src_plate',\n",
    "                   'Well':well,\n",
    "                   'Volume':REAGENT_VOLUME,\n",
    "                   'Target':False,\n",
    "                   component['Media Components']:component['Master Solution Concentration [M]']*1e3,\n",
    "                  }\n",
    "            df = df.append(row, ignore_index=True)\n",
    "            well +=1 \n",
    "    else:\n",
    "        row = {'Plate':'src_plate',\n",
    "               'Well':well,\n",
    "               'Volume':REAGENT_VOLUME,\n",
    "               'Target':False,\n",
    "               component['Media Components']:component['Master Solution Concentration [M]']*1e3,\n",
    "              }\n",
    "        df = df.append(row, ignore_index=True)\n",
    "        well +=1\n",
    "df = df.fillna(0)\n"
   ]
  },
  {
   "cell_type": "code",
   "execution_count": 8,
   "metadata": {},
   "outputs": [
    {
     "data": {
      "text/html": [
       "<div>\n",
       "<style scoped>\n",
       "    .dataframe tbody tr th:only-of-type {\n",
       "        vertical-align: middle;\n",
       "    }\n",
       "\n",
       "    .dataframe tbody tr th {\n",
       "        vertical-align: top;\n",
       "    }\n",
       "\n",
       "    .dataframe thead th {\n",
       "        text-align: right;\n",
       "    }\n",
       "</style>\n",
       "<table border=\"1\" class=\"dataframe\">\n",
       "  <thead>\n",
       "    <tr style=\"text-align: right;\">\n",
       "      <th></th>\n",
       "      <th>Plate</th>\n",
       "      <th>Well</th>\n",
       "      <th>Well Number</th>\n",
       "      <th>Reagent</th>\n",
       "    </tr>\n",
       "  </thead>\n",
       "  <tbody>\n",
       "    <tr>\n",
       "      <th>0</th>\n",
       "      <td>src_plate</td>\n",
       "      <td>A1</td>\n",
       "      <td>1</td>\n",
       "      <td>Na2HPO4</td>\n",
       "    </tr>\n",
       "    <tr>\n",
       "      <th>1</th>\n",
       "      <td>src_plate</td>\n",
       "      <td>A2</td>\n",
       "      <td>2</td>\n",
       "      <td>Na2HPO4</td>\n",
       "    </tr>\n",
       "    <tr>\n",
       "      <th>22</th>\n",
       "      <td>src_plate</td>\n",
       "      <td>A3</td>\n",
       "      <td>3</td>\n",
       "      <td>KH2PO4</td>\n",
       "    </tr>\n",
       "    <tr>\n",
       "      <th>23</th>\n",
       "      <td>src_plate</td>\n",
       "      <td>A4</td>\n",
       "      <td>4</td>\n",
       "      <td>KH2PO4</td>\n",
       "    </tr>\n",
       "    <tr>\n",
       "      <th>44</th>\n",
       "      <td>src_plate</td>\n",
       "      <td>A5</td>\n",
       "      <td>5</td>\n",
       "      <td>NaCl</td>\n",
       "    </tr>\n",
       "    <tr>\n",
       "      <th>45</th>\n",
       "      <td>src_plate</td>\n",
       "      <td>A6</td>\n",
       "      <td>6</td>\n",
       "      <td>NaCl</td>\n",
       "    </tr>\n",
       "    <tr>\n",
       "      <th>46</th>\n",
       "      <td>src_plate</td>\n",
       "      <td>A7</td>\n",
       "      <td>7</td>\n",
       "      <td>NaCl</td>\n",
       "    </tr>\n",
       "    <tr>\n",
       "      <th>67</th>\n",
       "      <td>src_plate</td>\n",
       "      <td>A8</td>\n",
       "      <td>8</td>\n",
       "      <td>(NH4)2SO4</td>\n",
       "    </tr>\n",
       "    <tr>\n",
       "      <th>88</th>\n",
       "      <td>src_plate</td>\n",
       "      <td>A9</td>\n",
       "      <td>9</td>\n",
       "      <td>CaCl2</td>\n",
       "    </tr>\n",
       "    <tr>\n",
       "      <th>109</th>\n",
       "      <td>src_plate</td>\n",
       "      <td>A10</td>\n",
       "      <td>10</td>\n",
       "      <td>FeSO4</td>\n",
       "    </tr>\n",
       "    <tr>\n",
       "      <th>130</th>\n",
       "      <td>src_plate</td>\n",
       "      <td>A11</td>\n",
       "      <td>11</td>\n",
       "      <td>CoCl2</td>\n",
       "    </tr>\n",
       "    <tr>\n",
       "      <th>151</th>\n",
       "      <td>src_plate</td>\n",
       "      <td>A12</td>\n",
       "      <td>12</td>\n",
       "      <td>CuSO4</td>\n",
       "    </tr>\n",
       "    <tr>\n",
       "      <th>172</th>\n",
       "      <td>src_plate</td>\n",
       "      <td>B1</td>\n",
       "      <td>13</td>\n",
       "      <td>MgSO4</td>\n",
       "    </tr>\n",
       "    <tr>\n",
       "      <th>193</th>\n",
       "      <td>src_plate</td>\n",
       "      <td>B2</td>\n",
       "      <td>14</td>\n",
       "      <td>MnCl2</td>\n",
       "    </tr>\n",
       "    <tr>\n",
       "      <th>214</th>\n",
       "      <td>src_plate</td>\n",
       "      <td>B3</td>\n",
       "      <td>15</td>\n",
       "      <td>Na2MoO4</td>\n",
       "    </tr>\n",
       "    <tr>\n",
       "      <th>235</th>\n",
       "      <td>src_plate</td>\n",
       "      <td>B4</td>\n",
       "      <td>16</td>\n",
       "      <td>ZnSO4</td>\n",
       "    </tr>\n",
       "    <tr>\n",
       "      <th>256</th>\n",
       "      <td>src_plate</td>\n",
       "      <td>B5</td>\n",
       "      <td>17</td>\n",
       "      <td>Glucose</td>\n",
       "    </tr>\n",
       "    <tr>\n",
       "      <th>257</th>\n",
       "      <td>src_plate</td>\n",
       "      <td>B6</td>\n",
       "      <td>18</td>\n",
       "      <td>Glucose</td>\n",
       "    </tr>\n",
       "    <tr>\n",
       "      <th>258</th>\n",
       "      <td>src_plate</td>\n",
       "      <td>B7</td>\n",
       "      <td>19</td>\n",
       "      <td>Glucose</td>\n",
       "    </tr>\n",
       "    <tr>\n",
       "      <th>259</th>\n",
       "      <td>src_plate</td>\n",
       "      <td>B8</td>\n",
       "      <td>20</td>\n",
       "      <td>Glucose</td>\n",
       "    </tr>\n",
       "  </tbody>\n",
       "</table>\n",
       "</div>"
      ],
      "text/plain": [
       "         Plate Well  Well Number    Reagent\n",
       "0    src_plate   A1            1    Na2HPO4\n",
       "1    src_plate   A2            2    Na2HPO4\n",
       "22   src_plate   A3            3     KH2PO4\n",
       "23   src_plate   A4            4     KH2PO4\n",
       "44   src_plate   A5            5       NaCl\n",
       "45   src_plate   A6            6       NaCl\n",
       "46   src_plate   A7            7       NaCl\n",
       "67   src_plate   A8            8  (NH4)2SO4\n",
       "88   src_plate   A9            9      CaCl2\n",
       "109  src_plate  A10           10      FeSO4\n",
       "130  src_plate  A11           11      CoCl2\n",
       "151  src_plate  A12           12      CuSO4\n",
       "172  src_plate   B1           13      MgSO4\n",
       "193  src_plate   B2           14      MnCl2\n",
       "214  src_plate   B3           15    Na2MoO4\n",
       "235  src_plate   B4           16      ZnSO4\n",
       "256  src_plate   B5           17    Glucose\n",
       "257  src_plate   B6           18    Glucose\n",
       "258  src_plate   B7           19    Glucose\n",
       "259  src_plate   B8           20    Glucose"
      ]
     },
     "metadata": {},
     "output_type": "display_data"
    }
   ],
   "source": [
    "# Create DataFrame to Help Make Reagent Plate By Hand!\n",
    "letters = 'ABCDEFGHIJKLMNOPQRSTUVWXYZ'\n",
    "\n",
    "well_df = df.loc[:,~df.columns.isin(['Target','Volume'])].melt(id_vars=['Plate','Well'])\n",
    "well_df = well_df.loc[well_df['value']!=0].rename(columns={'variable':'Reagent'})#.set_index(['Plate','Well'])['Reagent'].to_frame()\n",
    "well_df = well_df.rename(columns={'Well':'Well Number'})\n",
    "\n",
    "#\n",
    "well = lambda x: '{}{}'.format(letters[int((x-1)/12)],(x-1)%12 + 1)\n",
    "well_df['Well'] = well_df['Well Number'].apply(well)\n",
    "well_df = well_df[['Plate','Well','Well Number','Reagent']]\n",
    "display(well_df)"
   ]
  },
  {
   "cell_type": "code",
   "execution_count": 9,
   "metadata": {},
   "outputs": [],
   "source": [
    "#Create Water Plate\n",
    "for i in range(96):\n",
    "    row = {'Plate':'water_plate',\n",
    "           'Well':i+1,\n",
    "           'Volume':WATER_VOLUME,\n",
    "           'Target':False,\n",
    "          }\n",
    "    df = df.append(row, ignore_index=True)\n",
    "df = df.fillna(0)"
   ]
  },
  {
   "cell_type": "code",
   "execution_count": 10,
   "metadata": {},
   "outputs": [
    {
     "name": "stdout",
     "output_type": "stream",
     "text": [
      "13\n"
     ]
    }
   ],
   "source": [
    "#Create Combinatorial Media To Test From Plate\n",
    "n=len(media_df)\n",
    "print(n)\n",
    "media_array = lhs(n,NUM_MEDIA).tolist()\n",
    "m_df = media_df\n",
    "media_molarity = [((m_df['Max Concentration [mM]'] - m_df['Min Concentration [mM]'])* m + m_df['Min Concentration [mM]']).tolist() for m in media_array]  \n",
    "#print(media_molarity)\n",
    "\n",
    "media_data = media_molarity\n",
    "#non_zero_index = -2 #All Zeros\n",
    "#for i,media in enumerate(media_molarity):\n",
    "#    if i % 4 == 0:\n",
    "#        non_zero_index += 1\n",
    "#        \n",
    "#    buffer = np.zeros(3)\n",
    "#    if non_zero_index >= 0:\n",
    "#        buffer[non_zero_index] = media[0]\n",
    "#        \n",
    "#    media_data.append(np.concatenate([buffer,media[1:]]).tolist())"
   ]
  },
  {
   "cell_type": "code",
   "execution_count": 11,
   "metadata": {},
   "outputs": [],
   "source": [
    "#Create Robolector Plate\n",
    "for i,media in enumerate(media_data):\n",
    "    base_well = (math.floor((i)/8)*24 + (i) % 8) + 1\n",
    "    for j in range(3):\n",
    "        row = ['dest_plate',base_well + 8*j] + media_data[i] + [WELL_VOLUME,True]\n",
    "        df = df.append(dict(zip(columns,row)),ignore_index=True)"
   ]
  },
  {
   "cell_type": "code",
   "execution_count": 12,
   "metadata": {},
   "outputs": [],
   "source": [
    "#Add Dodecane Overlay (If Needed...)\n",
    "if OVERLAY_VOLUME > 0:\n",
    "    pass"
   ]
  },
  {
   "cell_type": "code",
   "execution_count": 13,
   "metadata": {},
   "outputs": [],
   "source": [
    "#Sort DF Columns By Concentration\n",
    "sorted_components = media_df.sort_values('Min_Dilution_Factor')['Media Components']\n",
    "column_reorder = ['Plate','Well'] + sorted_components.tolist() + ['Volume','Target']\n",
    "df = df[column_reorder]"
   ]
  },
  {
   "cell_type": "code",
   "execution_count": 14,
   "metadata": {},
   "outputs": [],
   "source": [
    "#Write out Initial Media Configuration\n",
    "df.to_csv(OUTFILE,index=False)\n",
    "well_df.to_csv(DECKFILE,index=False)"
   ]
  }
 ],
 "metadata": {
  "kernelspec": {
   "display_name": "Python 3",
   "language": "python",
   "name": "python3"
  },
  "language_info": {
   "codemirror_mode": {
    "name": "ipython",
    "version": 3
   },
   "file_extension": ".py",
   "mimetype": "text/x-python",
   "name": "python",
   "nbconvert_exporter": "python",
   "pygments_lexer": "ipython3",
   "version": "3.7.3"
  }
 },
 "nbformat": 4,
 "nbformat_minor": 2
}
